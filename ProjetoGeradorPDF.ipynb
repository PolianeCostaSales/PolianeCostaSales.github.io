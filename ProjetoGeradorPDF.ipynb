{
 "cells": [
  {
   "cell_type": "markdown",
   "id": "356e57b6-7fea-461d-8017-1877884ee3bc",
   "metadata": {},
   "source": [
    "## Projeto 1"
   ]
  },
  {
   "cell_type": "markdown",
   "id": "14a68e14-2bd1-4936-a4fc-82498d29f244",
   "metadata": {},
   "source": [
    "#### Gerador de orçamento em pdf \n"
   ]
  },
  {
   "cell_type": "code",
   "execution_count": 53,
   "id": "78fcea58-e733-4537-94cf-ff3ee9a6880d",
   "metadata": {},
   "outputs": [
    {
     "name": "stdin",
     "output_type": "stream",
     "text": [
      "Descreva o projeto:  Desenvolvimento apk\n",
      "horas estimadas:  200\n",
      "Valor da hora trabalhada:  100\n",
      "Prazo de entrega:  3 meses\n"
     ]
    }
   ],
   "source": [
    "#### armazenar informações dadas pelo usuário\n",
    "\n",
    "descricao = input(\"Descreva o projeto: \")\n",
    "horas_previstas = input(\"horas estimadas: \")\n",
    "valor_hora = input(\"Valor da hora trabalhada: \")\n",
    "prazo = input(\"Prazo de entrega: \")"
   ]
  },
  {
   "cell_type": "code",
   "execution_count": 54,
   "id": "f84e21ee-73a0-41df-9fc7-f944e50a1946",
   "metadata": {},
   "outputs": [],
   "source": [
    "#### calcular orçamento entre duas variáveis\n",
    "\n",
    "valor_total = int(horas_previstas) * int(valor_hora)"
   ]
  },
  {
   "cell_type": "code",
   "execution_count": 55,
   "id": "e1f5f355-d162-4ada-a0bb-9985a2bd99c5",
   "metadata": {},
   "outputs": [
    {
     "name": "stdout",
     "output_type": "stream",
     "text": [
      "Requirement already satisfied: fpdf in c:\\users\\letic\\anaconda3\\lib\\site-packages (1.7.2)\n",
      "Orçamento gerado com êxito!\n"
     ]
    }
   ],
   "source": [
    "#### instalar biblioteca de comandos\n",
    "!pip install fpdf\n",
    "\n",
    "#### importar comandos a serem utilizados\n",
    "from fpdf import FPDF\n",
    "\n",
    "#### converter o pacote de comandos FPDF em uma variável\n",
    "pdf = FPDF()\n",
    "\n",
    "#### criar arquivo de documento pdf na memória do desktop\n",
    "pdf.add_page()\n",
    "\n",
    "#### adicionar design ao documento pdf\n",
    "pdf.image(\"template.png\", 0, 0)\n",
    "\n",
    "#### selecionar a fonte a ser utilizada\n",
    "pdf.set_font(\"Arial\")\n",
    "\n",
    "\n",
    "\n",
    "#### adicionar texto ao documento pdf\n",
    "pdf.text(115, 145, descricao)\n",
    "pdf.text(115, 160, horas_previstas)\n",
    "pdf.text(115, 175, valor_hora)\n",
    "pdf.text(115, 190, prazo)\n",
    "pdf.text(115, 205, str(valor_total))\n",
    "\n",
    "\n",
    "#### salvar arquivo pdf no desktop\n",
    "pdf.output(\"Orçamento.pdf\")\n",
    "\n",
    "#### apresentar mensagem de conclusão \n",
    "print(\"Orçamento gerado com êxito!\")"
   ]
  },
  {
   "cell_type": "markdown",
   "id": "b2897e27-fdc4-4e02-8b3b-9836a3b930a5",
   "metadata": {},
   "source": [
    "#### Convertendo em exe"
   ]
  },
  {
   "cell_type": "code",
   "execution_count": null,
   "id": "b192ac85-5794-4598-b151-78107f61dc2d",
   "metadata": {},
   "outputs": [],
   "source": []
  },
  {
   "cell_type": "code",
   "execution_count": 5,
   "id": "8faeea5d-093b-4ddd-a8dd-4d6688965658",
   "metadata": {},
   "outputs": [
    {
     "ename": "ModuleNotFoundError",
     "evalue": "No module named 'pyinstaller'",
     "output_type": "error",
     "traceback": [
      "\u001b[1;31m---------------------------------------------------------------------------\u001b[0m",
      "\u001b[1;31mModuleNotFoundError\u001b[0m                       Traceback (most recent call last)",
      "Cell \u001b[1;32mIn[5], line 1\u001b[0m\n\u001b[1;32m----> 1\u001b[0m \u001b[38;5;28;01mimport\u001b[39;00m \u001b[38;5;21;01mpyinstaller\u001b[39;00m\n",
      "\u001b[1;31mModuleNotFoundError\u001b[0m: No module named 'pyinstaller'"
     ]
    }
   ],
   "source": [
    "import pyinstaller"
   ]
  },
  {
   "cell_type": "code",
   "execution_count": null,
   "id": "4ead3657-bc3f-4e18-9d33-22fc41157879",
   "metadata": {},
   "outputs": [],
   "source": [
    "pyinstaler"
   ]
  },
  {
   "cell_type": "code",
   "execution_count": null,
   "id": "7749e7f5-64ea-4ae4-aa6d-575d9afd5037",
   "metadata": {},
   "outputs": [],
   "source": []
  }
 ],
 "metadata": {
  "kernelspec": {
   "display_name": "Python 3 (ipykernel)",
   "language": "python",
   "name": "python3"
  },
  "language_info": {
   "codemirror_mode": {
    "name": "ipython",
    "version": 3
   },
   "file_extension": ".py",
   "mimetype": "text/x-python",
   "name": "python",
   "nbconvert_exporter": "python",
   "pygments_lexer": "ipython3",
   "version": "3.11.7"
  }
 },
 "nbformat": 4,
 "nbformat_minor": 5
}
